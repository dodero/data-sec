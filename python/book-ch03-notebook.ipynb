{
 "cells": [
  {
   "cell_type": "markdown",
   "metadata": {},
   "source": [
    "Este ejemplo explica cómo usar Jupyter y Python para analizar una base de datos de reputación de direcciones IP proporcionada por AlienVault.\n",
    "\n",
    "## Contenidos\n",
    "\n",
    "1. [Instalación de Python y Jupyter](#install-jupyter)\n",
    "2. [Caso práctico: IDS/IPS](#ids-usecase)\n",
    "3. [Preparación y transformación de datos](#prepare-data)\n",
    "4. [Análisis exploratorio de datos](#explore-data)\n",
    "\n",
    "\n",
    "<a id=\"install-jupyter\"></a>\n",
    "### Instalación de Python y Jupyter\n",
    "\n",
    "Puede ejecutarse Jupyter notebook en la nube mediante un servicio como https://try.jupyter.org/ o instalarlo y ejecutarlo localmente. Para instalarlo en local, seguir las instrucciones de http://jupyter.readthedocs.org/en/latest/install.html.\n",
    "\n",
    "Para los ejemplos de esta guía se recomienda usar Python 2.7. \n",
    "\n",
    "[Opcional] Jupyter notebook puede configurarse para emplear otros _kernels_ distintos a Python. Por ejemplo, después de instalar [Anaconda](https://www.continuum.io/downloads) puede ejecutarse la siguiente orden desde el shell para instalar el kernel de R:\n",
    "```\n",
    "conda install -c r r-irkernel\n",
    "```"
   ]
  },
  {
   "cell_type": "markdown",
   "metadata": {},
   "source": [
    "#### Comprobaciones\n",
    "Comprobamos que la versión de Python es la 2.7"
   ]
  },
  {
   "cell_type": "code",
   "execution_count": 28,
   "metadata": {},
   "outputs": [
    {
     "data": {
      "text/plain": [
       "'2.7.14 |Anaconda, Inc.| (default, Oct  5 2017, 02:28:52) \\n[GCC 4.2.1 Compatible Clang 4.0.1 (tags/RELEASE_401/final)]'"
      ]
     },
     "execution_count": 28,
     "metadata": {},
     "output_type": "execute_result"
    }
   ],
   "source": [
    "import sys\n",
    "sys.version"
   ]
  },
  {
   "cell_type": "markdown",
   "metadata": {},
   "source": [
    "<a id=\"ids-usecase\"></a>\n",
    "### Caso práctico: IDS/IPS\n",
    "El caso práctico va a consistir en importar en un IDS/IPS _(Intrusion Detection System/Intrusion Preventio System)_ un dataset de direcciones IP maliciosas publicado por AlienVault que ayude al equipo de respuesta a incidentes a definir alertas, registrar o bloquear actividades maliciosas.\n",
    "\n",
    "#### Localizar los datos\n",
    "La base de datos de reputación de IPs de AlienVault publica periódicamente y en varios formatos algunos datasets con información sobre varios tipos de \"maldades\" en internet. Por ejemplo, en [reputation.data](http://reputation.alienvault.com/reputation.data) pubica en formato OSSIM un fichero CSV con una clasificación de diversos aspectos de reputación de una lista de IPs.\n",
    "Además, cada hora genera un [fichero de revisión](http://reputation.alienvault.com/reputation.rev) de los datos de reputación para poder trabajar con los últimos datos publicados.\n",
    "El fichero `reputation.data` con el que vamos a trabajar sigue el mismo formato OSSIM de AlienVault."
   ]
  },
  {
   "cell_type": "markdown",
   "metadata": {},
   "source": [
    "#### Importación de datos\n",
    "Cambiamos al directorio donde se encuentran los datos y los importamos en un fichero `avRep`"
   ]
  },
  {
   "cell_type": "code",
   "execution_count": 58,
   "metadata": {
    "collapsed": true
   },
   "outputs": [],
   "source": [
    "import os\n",
    "os.chdir(os.path.expanduser(\"~\") + \"/Pruebas/master-cyb/data-sec\")"
   ]
  },
  {
   "cell_type": "code",
   "execution_count": 8,
   "metadata": {
    "collapsed": true
   },
   "outputs": [],
   "source": [
    "avRep = \"data/reputation.data\"\n",
    "if not os.path.isfile(avRep):\n",
    "    urllib.urlretrieve(avURL, filename=avRep)"
   ]
  },
  {
   "cell_type": "markdown",
   "metadata": {},
   "source": [
    "Importamos la biblioteca `pandas` de Python para manejar **dataframes**. Importamos el fichero CSV en el dataframe `av` y damos nombre a cada una de sus columnas. Hacemos una prueba de impresión de una muestra de los primeros 10 registros del dataframe en forma de HTML."
   ]
  },
  {
   "cell_type": "code",
   "execution_count": 49,
   "metadata": {},
   "outputs": [
    {
     "name": "stdout",
     "output_type": "stream",
     "text": [
      "                     IP  Reliability  Risk            Type Country  \\\n",
      "0        222.76.212.185            4     2   Scanning Host      CN   \n",
      "1        222.76.212.186            4     2   Scanning Host      CN   \n",
      "2           5.34.246.67            6     3        Spamming      US   \n",
      "3         178.94.97.176            4     5   Scanning Host      UA   \n",
      "4           66.2.49.232            4     2   Scanning Host      US   \n",
      "5        222.76.212.173            4     2   Scanning Host      CN   \n",
      "6        222.76.212.172            4     2   Scanning Host      CN   \n",
      "7        222.76.212.171            4     2   Scanning Host      CN   \n",
      "8         174.142.46.19            6     3        Spamming     NaN   \n",
      "9           66.2.49.244            4     2   Scanning Host      US   \n",
      "10         62.75.130.16            4     2   Scanning Host      DE   \n",
      "11         62.75.130.17            4     2   Scanning Host      DE   \n",
      "12         62.75.130.18            4     2   Scanning Host      DE   \n",
      "13         62.75.130.19            4     2   Scanning Host      DE   \n",
      "14       112.216.121.87            4     3   Scanning Host      KR   \n",
      "15       112.216.121.78            4     3   Scanning Host      KR   \n",
      "16       112.216.121.77            4     3   Scanning Host      KR   \n",
      "17       112.216.121.75            4     3   Scanning Host      KR   \n",
      "18       112.216.121.74            4     3   Scanning Host      KR   \n",
      "19        222.45.58.249            4     2   Scanning Host      CN   \n",
      "20        222.45.58.244            4     2   Scanning Host      CN   \n",
      "21       120.31.136.119            4     2   Scanning Host      CN   \n",
      "22         201.57.0.248            4     2   Scanning Host      BR   \n",
      "23         218.65.30.37            4     4   Scanning Host      CN   \n",
      "24         218.65.30.38            4     3   Scanning Host      CN   \n",
      "25         178.94.97.59            4     5   Scanning Host      UA   \n",
      "26       84.241.180.134            6     3      Malware IP      NL   \n",
      "27         62.75.130.12            4     2   Scanning Host      DE   \n",
      "28         62.75.130.13            4     2   Scanning Host      DE   \n",
      "29         62.75.130.14            4     2   Scanning Host      DE   \n",
      "...                 ...          ...   ...             ...     ...   \n",
      "258595    78.27.127.220            4     2   Scanning Host      FI   \n",
      "258596    78.27.127.210            4     2   Scanning Host      FI   \n",
      "258597     78.188.27.29            1     2   Scanning Host      TR   \n",
      "258598      223.4.10.45            6     2  Malware Domain      CN   \n",
      "258599      221.6.207.4            4     3   Scanning Host      CN   \n",
      "258600     78.27.127.51            4     2   Scanning Host      FI   \n",
      "258601     78.27.127.57            4     2   Scanning Host      FI   \n",
      "258602     78.188.27.26            1     2   Scanning Host      TR   \n",
      "258603     78.188.27.27            1     2   Scanning Host      TR   \n",
      "258604   60.168.158.231            4     4   Scanning Host      CN   \n",
      "258605     78.188.27.28            1     2   Scanning Host      TR   \n",
      "258606  180.215.161.174            4     4   Scanning Host      IN   \n",
      "258607    78.27.127.211            4     2   Scanning Host      FI   \n",
      "258608   190.229.178.34            4     3   Scanning Host      AR   \n",
      "258609   190.229.178.37            4     3   Scanning Host      AR   \n",
      "258610  190.229.178.155            4     3   Scanning Host      AR   \n",
      "258611     78.27.127.48            4     2   Scanning Host      FI   \n",
      "258612      23.83.79.89            9     2  Malware Domain     NaN   \n",
      "258613  188.190.124.120            6     3  Malware Domain      UA   \n",
      "258614     78.27.127.50            4     2   Scanning Host      FI   \n",
      "258615     78.27.127.47            4     2   Scanning Host      FI   \n",
      "258616     75.98.171.83            4     2        Spamming      US   \n",
      "258617   114.112.189.27            4     2   Scanning Host      CN   \n",
      "258618  114.112.189.139            4     2   Scanning Host      CN   \n",
      "258619  173.208.220.245            9     2        Spamming      US   \n",
      "258620  179.244.194.219            4     2        Spamming      BR   \n",
      "258621   216.99.159.166            4     2   Scanning Host      US   \n",
      "258622   216.99.159.169            3     2   Scanning Host      US   \n",
      "258623   216.99.159.176            3     2   Scanning Host      US   \n",
      "258624   216.99.159.117            3     3   Scanning Host      US   \n",
      "\n",
      "             Locale                         Coords   x  \n",
      "0            Xiamen     24.4797992706,118.08190155  11  \n",
      "1            Xiamen     24.4797992706,118.08190155  11  \n",
      "2               NaN                     38.0,-97.0  12  \n",
      "3            Merefa    49.8230018616,36.0507011414  11  \n",
      "4        Union City   37.5962982178,-122.065696716  11  \n",
      "5            Xiamen     24.4797992706,118.08190155  11  \n",
      "6            Xiamen     24.4797992706,118.08190155  11  \n",
      "7            Xiamen     24.4797992706,118.08190155  11  \n",
      "8               NaN     24.4797992706,118.08190155  12  \n",
      "9        Union City   37.5962982178,-122.065696716  11  \n",
      "10              NaN                       51.0,9.0  11  \n",
      "11              NaN                       51.0,9.0  11  \n",
      "12              NaN                       51.0,9.0  11  \n",
      "13              NaN                       51.0,9.0  11  \n",
      "14              NaN                     37.0,127.5  11  \n",
      "15              NaN                     37.0,127.5  11  \n",
      "16              NaN                     37.0,127.5  11  \n",
      "17              NaN                     37.0,127.5  11  \n",
      "18              NaN                     37.0,127.5  11  \n",
      "19          Nanjing    32.0616989136,118.777801514  11  \n",
      "20          Nanjing    32.0616989136,118.777801514  11  \n",
      "21           Foshan    23.0268001556,113.131500244  11  \n",
      "22              NaN                    -10.0,-55.0  11  \n",
      "23         Nanchang    28.5499992371,115.933296204  11  \n",
      "24         Nanchang    28.5499992371,115.933296204  11  \n",
      "25           Merefa    49.8230018616,36.0507011414  11  \n",
      "26              NaN                      52.5,5.75   7  \n",
      "27              NaN                       51.0,9.0  11  \n",
      "28              NaN                       51.0,9.0  11  \n",
      "29              NaN                       51.0,9.0  11  \n",
      "...             ...                            ...  ..  \n",
      "258595     Helsinki    60.1755981445,24.9342002869  11  \n",
      "258596     Helsinki    60.1755981445,24.9342002869  11  \n",
      "258597     Istanbul    41.0186004639,28.9647006989  11  \n",
      "258598      Beijing    39.9289016724,116.388298035   6  \n",
      "258599      Nanjing    32.0616989136,118.777801514  11  \n",
      "258600     Helsinki    60.1755981445,24.9342002869  11  \n",
      "258601     Helsinki    60.1755981445,24.9342002869  11  \n",
      "258602     Istanbul    41.0186004639,28.9647006989  11  \n",
      "258603     Istanbul    41.0186004639,28.9647006989  11  \n",
      "258604        Hefei     31.863899231,117.280799866  11  \n",
      "258605     Istanbul    41.0186004639,28.9647006989  11  \n",
      "258606          NaN                      20.0,77.0  11  \n",
      "258607     Helsinki    60.1755981445,24.9342002869  11  \n",
      "258608      Tucuman  -26.8241004944,-65.2226028442  11  \n",
      "258609      Tucuman  -26.8241004944,-65.2226028442  11  \n",
      "258610      Tucuman  -26.8241004944,-65.2226028442  11  \n",
      "258611     Helsinki    60.1755981445,24.9342002869  11  \n",
      "258612          NaN    60.1755981445,24.9342002869   6  \n",
      "258613      Kharkov    49.9808006287,36.2527008057   6  \n",
      "258614     Helsinki    60.1755981445,24.9342002869  11  \n",
      "258615     Helsinki    60.1755981445,24.9342002869  11  \n",
      "258616    Ann Arbor   42.2775993347,-83.7408981323  12  \n",
      "258617      Beijing    39.9289016724,116.388298035  11  \n",
      "258618      Beijing    39.9289016724,116.388298035  11  \n",
      "258619  Kansas City   39.1068000793,-94.5660018921  12  \n",
      "258620          NaN                    -10.0,-55.0  12  \n",
      "258621       Walnut   34.0115013123,-117.853500366  11  \n",
      "258622       Walnut   34.0115013123,-117.853500366  11  \n",
      "258623       Walnut   34.0115013123,-117.853500366  11  \n",
      "258624       Walnut   34.0115013123,-117.853500366  11  \n",
      "\n",
      "[258625 rows x 8 columns]\n"
     ]
    }
   ],
   "source": [
    "import pandas as pd\n",
    "av = pd.read_csv(avRep,sep=\"#\")\n",
    "av.columns = [\"IP\",\"Reliability\",\"Risk\",\"Type\",\"Country\",\"Locale\",\"Coords\",\"x\"]\n",
    "print(av) # echar un vistazo a la estructura de los datos"
   ]
  },
  {
   "cell_type": "code",
   "execution_count": 50,
   "metadata": {},
   "outputs": [
    {
     "name": "stdout",
     "output_type": "stream",
     "text": [
      ",IP,Reliability,Risk,Type,Country,Locale,Coords,x\n",
      "0,222.76.212.185,4,2,Scanning Host,CN,Xiamen,\"24.4797992706,118.08190155\",11\n",
      "1,222.76.212.186,4,2,Scanning Host,CN,Xiamen,\"24.4797992706,118.08190155\",11\n",
      "2,5.34.246.67,6,3,Spamming,US,,\"38.0,-97.0\",12\n",
      "3,178.94.97.176,4,5,Scanning Host,UA,Merefa,\"49.8230018616,36.0507011414\",11\n",
      "4,66.2.49.232,4,2,Scanning Host,US,Union City,\"37.5962982178,-122.065696716\",11\n"
     ]
    }
   ],
   "source": [
    "# echar un vistazo a las primeras 10 filas\n",
    "av.head().to_csv(sys.stdout)"
   ]
  },
  {
   "cell_type": "code",
   "execution_count": 51,
   "metadata": {},
   "outputs": [
    {
     "data": {
      "text/html": [
       "<table border=\"1\" class=\"dataframe\">\n",
       "  <thead>\n",
       "    <tr style=\"text-align: right;\">\n",
       "      <th></th>\n",
       "      <th>IP</th>\n",
       "      <th>Reliability</th>\n",
       "      <th>Risk</th>\n",
       "      <th>Type</th>\n",
       "      <th>Country</th>\n",
       "      <th>Locale</th>\n",
       "      <th>Coords</th>\n",
       "      <th>x</th>\n",
       "    </tr>\n",
       "  </thead>\n",
       "  <tbody>\n",
       "    <tr>\n",
       "      <th>0</th>\n",
       "      <td>222.76.212.185</td>\n",
       "      <td>4</td>\n",
       "      <td>2</td>\n",
       "      <td>Scanning Host</td>\n",
       "      <td>CN</td>\n",
       "      <td>Xiamen</td>\n",
       "      <td>24.4797992706,118.08190155</td>\n",
       "      <td>11</td>\n",
       "    </tr>\n",
       "    <tr>\n",
       "      <th>1</th>\n",
       "      <td>222.76.212.186</td>\n",
       "      <td>4</td>\n",
       "      <td>2</td>\n",
       "      <td>Scanning Host</td>\n",
       "      <td>CN</td>\n",
       "      <td>Xiamen</td>\n",
       "      <td>24.4797992706,118.08190155</td>\n",
       "      <td>11</td>\n",
       "    </tr>\n",
       "    <tr>\n",
       "      <th>2</th>\n",
       "      <td>5.34.246.67</td>\n",
       "      <td>6</td>\n",
       "      <td>3</td>\n",
       "      <td>Spamming</td>\n",
       "      <td>US</td>\n",
       "      <td>NaN</td>\n",
       "      <td>38.0,-97.0</td>\n",
       "      <td>12</td>\n",
       "    </tr>\n",
       "    <tr>\n",
       "      <th>3</th>\n",
       "      <td>178.94.97.176</td>\n",
       "      <td>4</td>\n",
       "      <td>5</td>\n",
       "      <td>Scanning Host</td>\n",
       "      <td>UA</td>\n",
       "      <td>Merefa</td>\n",
       "      <td>49.8230018616,36.0507011414</td>\n",
       "      <td>11</td>\n",
       "    </tr>\n",
       "    <tr>\n",
       "      <th>4</th>\n",
       "      <td>66.2.49.232</td>\n",
       "      <td>4</td>\n",
       "      <td>2</td>\n",
       "      <td>Scanning Host</td>\n",
       "      <td>US</td>\n",
       "      <td>Union City</td>\n",
       "      <td>37.5962982178,-122.065696716</td>\n",
       "      <td>11</td>\n",
       "    </tr>\n",
       "    <tr>\n",
       "      <th>5</th>\n",
       "      <td>222.76.212.173</td>\n",
       "      <td>4</td>\n",
       "      <td>2</td>\n",
       "      <td>Scanning Host</td>\n",
       "      <td>CN</td>\n",
       "      <td>Xiamen</td>\n",
       "      <td>24.4797992706,118.08190155</td>\n",
       "      <td>11</td>\n",
       "    </tr>\n",
       "    <tr>\n",
       "      <th>6</th>\n",
       "      <td>222.76.212.172</td>\n",
       "      <td>4</td>\n",
       "      <td>2</td>\n",
       "      <td>Scanning Host</td>\n",
       "      <td>CN</td>\n",
       "      <td>Xiamen</td>\n",
       "      <td>24.4797992706,118.08190155</td>\n",
       "      <td>11</td>\n",
       "    </tr>\n",
       "    <tr>\n",
       "      <th>7</th>\n",
       "      <td>222.76.212.171</td>\n",
       "      <td>4</td>\n",
       "      <td>2</td>\n",
       "      <td>Scanning Host</td>\n",
       "      <td>CN</td>\n",
       "      <td>Xiamen</td>\n",
       "      <td>24.4797992706,118.08190155</td>\n",
       "      <td>11</td>\n",
       "    </tr>\n",
       "    <tr>\n",
       "      <th>8</th>\n",
       "      <td>174.142.46.19</td>\n",
       "      <td>6</td>\n",
       "      <td>3</td>\n",
       "      <td>Spamming</td>\n",
       "      <td>NaN</td>\n",
       "      <td>NaN</td>\n",
       "      <td>24.4797992706,118.08190155</td>\n",
       "      <td>12</td>\n",
       "    </tr>\n",
       "    <tr>\n",
       "      <th>9</th>\n",
       "      <td>66.2.49.244</td>\n",
       "      <td>4</td>\n",
       "      <td>2</td>\n",
       "      <td>Scanning Host</td>\n",
       "      <td>US</td>\n",
       "      <td>Union City</td>\n",
       "      <td>37.5962982178,-122.065696716</td>\n",
       "      <td>11</td>\n",
       "    </tr>\n",
       "  </tbody>\n",
       "</table>"
      ],
      "text/plain": [
       "<IPython.core.display.HTML object>"
      ]
     },
     "execution_count": 51,
     "metadata": {},
     "output_type": "execute_result"
    }
   ],
   "source": [
    "# mostrar los mismos datos en formato HTML\n",
    "from IPython.display import HTML\n",
    "HTML(av.head(10).to_html())"
   ]
  },
  {
   "cell_type": "markdown",
   "metadata": {},
   "source": [
    "- `Reliability`, `Risk` y `x` son enteros\n",
    "- `IP`, `Type`, `Country`, `Locale` y `Coords` son strings"
   ]
  },
  {
   "cell_type": "markdown",
   "metadata": {},
   "source": [
    "<a id=\"prepare-data\"></a>\n",
    "### Preparación y transformación de datos\n",
    "\n",
    "Pedimos que nos genere los estadísticos básicos (descriptivos) de los valores de las columnas\n",
    "_Reliability_ y _Risk_ del dataframe, interpretados como variables estadísticas.\n",
    "Puede verse que las variables _Reliability_ y _Risk_ no se han reconocido como _cualitativas_ (i.e. **categóricas**),\n",
    "sino como _cuantitativas_"
   ]
  },
  {
   "cell_type": "code",
   "execution_count": 11,
   "metadata": {},
   "outputs": [
    {
     "data": {
      "text/plain": [
       "count    258625.000000\n",
       "mean          2.798036\n",
       "std           1.130419\n",
       "min           1.000000\n",
       "25%           2.000000\n",
       "50%           2.000000\n",
       "75%           4.000000\n",
       "max          10.000000\n",
       "Name: Reliability, dtype: float64"
      ]
     },
     "execution_count": 11,
     "metadata": {},
     "output_type": "execute_result"
    }
   ],
   "source": [
    "av['Reliability'].describe()"
   ]
  },
  {
   "cell_type": "code",
   "execution_count": 12,
   "metadata": {},
   "outputs": [
    {
     "data": {
      "text/plain": [
       "count    258625.000000\n",
       "mean          2.221363\n",
       "std           0.531572\n",
       "min           1.000000\n",
       "25%           2.000000\n",
       "50%           2.000000\n",
       "75%           2.000000\n",
       "max           7.000000\n",
       "Name: Risk, dtype: float64"
      ]
     },
     "execution_count": 12,
     "metadata": {},
     "output_type": "execute_result"
    }
   ],
   "source": [
    "av['Risk'].describe()"
   ]
  },
  {
   "cell_type": "markdown",
   "metadata": {},
   "source": [
    "Definimos una función auxiliar en Python para transformar los valores de una determinada columna de un dataframe\n",
    "(que realmente son arrays en Python) en valores cualitativos, como una **variable categórica**: los distintos valores cualitativos acompañados de sus frecuencias.\n",
    "\n",
    "La función `factor_col` está definida usando una versión antigua de la clase `Categorical` de la biblioteca `pandas`,\n",
    "así que debe generar un _warning_ avisando que la función `Categorical.from_array` está obsoleta."
   ]
  },
  {
   "cell_type": "code",
   "execution_count": 14,
   "metadata": {
    "collapsed": true
   },
   "outputs": [],
   "source": [
    "def factor_col(col):\n",
    "    factor = pd.Categorical.from_array(col)\n",
    "    return pd.value_counts(factor,sort=True).reindex(factor.categories)"
   ]
  },
  {
   "cell_type": "markdown",
   "metadata": {},
   "source": [
    "Ejemplo de cómputo de las frecuencias de cada una de las columnas:"
   ]
  },
  {
   "cell_type": "code",
   "execution_count": 19,
   "metadata": {
    "collapsed": true
   },
   "outputs": [],
   "source": [
    "rel_ct = pd.value_counts(av['Reliability'])\n",
    "risk_ct = pd.value_counts(av['Risk'])\n",
    "type_ct = pd.value_counts(av['Type'])\n",
    "country_ct = pd.value_counts(av['Country'])"
   ]
  },
  {
   "cell_type": "markdown",
   "metadata": {},
   "source": [
    "Redefinimos la función `factor_col` para que use la versión más moderna de la biblioteca de funciones de `Categorical`."
   ]
  },
  {
   "cell_type": "code",
   "execution_count": 20,
   "metadata": {
    "collapsed": true
   },
   "outputs": [],
   "source": [
    "def factor_col(col):\n",
    "    factor = pd.Categorical(pd.Series(col))\n",
    "    return pd.value_counts(factor,sort=True).reindex(factor.categories)"
   ]
  },
  {
   "cell_type": "markdown",
   "metadata": {},
   "source": [
    "Mostramos los valores de las columnas con datos cualitativos, consideradas como variables categóricas"
   ]
  },
  {
   "cell_type": "code",
   "execution_count": 18,
   "metadata": {},
   "outputs": [
    {
     "name": "stdout",
     "output_type": "stream",
     "text": [
      "1       5612\n",
      "2     149117\n",
      "3      10892\n",
      "4      87039\n",
      "5          7\n",
      "6       4758\n",
      "7        297\n",
      "8         21\n",
      "9        686\n",
      "10       196\n",
      "dtype: int64\n"
     ]
    }
   ],
   "source": [
    "print factor_col(av['Reliability'])"
   ]
  },
  {
   "cell_type": "code",
   "execution_count": 25,
   "metadata": {},
   "outputs": [
    {
     "name": "stdout",
     "output_type": "stream",
     "text": [
      "1        39\n",
      "2    213851\n",
      "3     33719\n",
      "4      9588\n",
      "5      1328\n",
      "6        90\n",
      "7        10\n",
      "dtype: int64\n"
     ]
    }
   ],
   "source": [
    "print factor_col(av['Risk'])"
   ]
  },
  {
   "cell_type": "code",
   "execution_count": 26,
   "metadata": {},
   "outputs": [
    {
     "name": "stdout",
     "output_type": "stream",
     "text": [
      "APT;Malware Domain                  1\n",
      "C&C                               610\n",
      "C&C;Malware Domain                 31\n",
      "C&C;Malware IP                     20\n",
      "C&C;Scanning Host                   7\n",
      "Malicious Host                   3770\n",
      "Malicious Host;Malware Domain       4\n",
      "Malicious Host;Malware IP           2\n",
      "Malicious Host;Scanning Host      163\n",
      "Malware Domain                   9274\n",
      "dtype: int64\n"
     ]
    }
   ],
   "source": [
    "print factor_col(av['Type']).head(n=10)"
   ]
  },
  {
   "cell_type": "code",
   "execution_count": 23,
   "metadata": {},
   "outputs": [
    {
     "name": "stdout",
     "output_type": "stream",
     "text": [
      "A1     267\n",
      "A2       2\n",
      "AE    1827\n",
      "AL       4\n",
      "AM       6\n",
      "AN       3\n",
      "AO     256\n",
      "AR    3046\n",
      "AT      51\n",
      "AU     155\n",
      "dtype: int64\n"
     ]
    }
   ],
   "source": [
    "print factor_col(av['Country']).head(n=10)"
   ]
  },
  {
   "cell_type": "markdown",
   "metadata": {},
   "source": [
    "<a id=\"explore-data\"></a>\n",
    "### Análisis exploratorio de datos\n",
    "\n",
    "Empezamos intentando un análisis exploratorio de los datos pintando un gráfico de barras con la distribución de los datos.\n",
    "Para ello usamos una biblioteca para pintar gráficos y habilitamos que los gráficos se pinten dentro del notebook de Jupyter"
   ]
  },
  {
   "cell_type": "code",
   "execution_count": 45,
   "metadata": {
    "collapsed": true
   },
   "outputs": [],
   "source": [
    "import matplotlib.pyplot as plt\n",
    "%matplotlib inline"
   ]
  },
  {
   "cell_type": "code",
   "execution_count": 40,
   "metadata": {
    "collapsed": true
   },
   "outputs": [],
   "source": [
    "# ordenamos por país\n",
    "country_ct = pd.value_counts(av['Country'])"
   ]
  },
  {
   "cell_type": "code",
   "execution_count": 46,
   "metadata": {},
   "outputs": [
    {
     "data": {
      "image/png": "[encoded data removed]",
      "text/plain": [
       "<matplotlib.figure.Figure at 0x116e7db90>"
      ]
     },
     "metadata": {},
     "output_type": "display_data"
    }
   ],
   "source": [
    "plt.axes(frameon=0) # definir ejes sin adornos\n",
    "country_ct[:20].plot(kind='bar', rot=0, title=\"Resumen por pais\", figsize=(8,5)).grid(False)\n",
    "# los códigos de país en blanco no se muestran en el gráfico"
   ]
  },
  {
   "cell_type": "markdown",
   "metadata": {},
   "source": [
    "El gráfico 'Resumen por pais' muestra que hay países que contribuyen más al número de nodos maliciosos.\n",
    "\n",
    "También podemos observar el porcentaje cubierto por el top 10 de países:"
   ]
  },
  {
   "cell_type": "code",
   "execution_count": 38,
   "metadata": {},
   "outputs": [
    {
     "data": {
      "text/plain": [
       "CN    0.265179\n",
       "US    0.194826\n",
       "TR    0.053970\n",
       "DE    0.038484\n",
       "NL    0.030666\n",
       "RU    0.024537\n",
       "GB    0.024333\n",
       "IN    0.021189\n",
       "FR    0.021069\n",
       "Name: Country, dtype: float64"
      ]
     },
     "execution_count": 38,
     "metadata": {},
     "output_type": "execute_result"
    }
   ],
   "source": [
    "# extraer los 10 países prevalentes\n",
    "top10 = pd.value_counts(av['Country'])[0:9]\n",
    "# calcular el % para cada uno del top 10\n",
    "top10.astype(float) / len(av['Country'])"
   ]
  },
  {
   "cell_type": "markdown",
   "metadata": {},
   "source": [
    "Se observa como China y los EEUU contabilizan el 46% de los nodos maliciosos de la lista, y Rusia solo el 2,4%.\n",
    "Sin embargo, la cuantía de contribución de algunos países sugiere que puede haber un cierto sesgo (_bias_) en los datos.\n",
    "No tenemos aquí en cuenta las dificultades y pegas de la geolocalización de direcciones IP."
   ]
  },
  {
   "cell_type": "markdown",
   "metadata": {},
   "source": [
    "Si analizamos la variable _Risk_, se puede ver que el nivel de riesgo de la mayoría de nodos es tan bajo que puede descartarse.\n",
    "\n",
    "Hay otros datos que resaltan: prácticamente no hay valores en las categorías 1, 5, 6 y 7; y ninguno en las categorías 8-10. Esta anomalía es un síntoma de que hay un cierto sesgo en el dataset."
   ]
  },
  {
   "cell_type": "code",
   "execution_count": 42,
   "metadata": {},
   "outputs": [
    {
     "data": {
      "image/png": "[encoded data removed]",
      "text/plain": [
       "<matplotlib.figure.Figure at 0x11936d050>"
      ]
     },
     "metadata": {},
     "output_type": "display_data"
    }
   ],
   "source": [
    "plt.axes(frameon=0)\n",
    "factor_col(av['Risk']).plot(kind='bar', rot=0, title=\"Resumen por riesgo\", figsize=(8,5)).grid(False)"
   ]
  },
  {
   "cell_type": "markdown",
   "metadata": {},
   "source": [
    "La calificación de _Reliability_ (fiabilidad) de los nodos también parece un poco sesgada (la distribución está sesgada hacia uno de los lados de la media). Los valores se acumulan en las categorías 2 y 4, con pocas calificaciones por encima de 4. Esto puede significar un fallo sistémico en la asignación de la calificación de fiabilidad, o que puede qeu haya dos datasets distintos. La gran cantidad de 2 y 4 y el escaso número de 3 es un signo de que hay que explorar algo más."
   ]
  },
  {
   "cell_type": "code",
   "execution_count": 41,
   "metadata": {},
   "outputs": [
    {
     "data": {
      "image/png": "[encoded data removed]",
      "text/plain": [
       "<matplotlib.figure.Figure at 0x120a50ad0>"
      ]
     },
     "metadata": {},
     "output_type": "display_data"
    }
   ],
   "source": [
    "plt.axes(frameon=0)\n",
    "factor_col(av['Reliability']).plot(kind='bar', rot=0, title=\"Resumen por fiabilidad\", figsize=(8,5)).grid(False)"
   ]
  },
  {
   "cell_type": "markdown",
   "metadata": {},
   "source": [
    "La pregunta es _¿Qué nodos de la base de datos de reputación de IPs representan potencialmente una amenaza real?_\n",
    "AlienVault incluye para ello una clasificación de las IPs en su **fiabilidad** (_reliability_) y **riesgo** (_risk_). La consideración de cuáles son los nodos que representan una amenaza relevante puede ser algo subjetivo, pero desde luego no podemos generar una alerta para cualquier actividad detectada en alguno de los 258.656 nodos de la base de datos.\n",
    "\n",
    "Hay que hacer un \"triaje\" a partir del análisis estadístico de los datos.\n",
    "\n",
    "Primero, vamos a mostrar una **tabla de contingencia** que ayude a mostrar la relación entre las variables riesgo y fiabilidad. La tabla de contingencia es una vista multivariante de la distribución de frecuencias para las variables específicas que se desea comparar."
   ]
  },
  {
   "cell_type": "code",
   "execution_count": 53,
   "metadata": {},
   "outputs": [
    {
     "data": {
      "text/html": [
       "<div>\n",
       "<style>\n",
       "    .dataframe thead tr:only-child th {\n",
       "        text-align: right;\n",
       "    }\n",
       "\n",
       "    .dataframe thead th {\n",
       "        text-align: left;\n",
       "    }\n",
       "\n",
       "    .dataframe tbody tr th {\n",
       "        vertical-align: top;\n",
       "    }\n",
       "</style>\n",
       "<table border=\"1\" class=\"dataframe\">\n",
       "  <thead>\n",
       "    <tr style=\"text-align: right;\">\n",
       "      <th>Reliability</th>\n",
       "      <th>1</th>\n",
       "      <th>2</th>\n",
       "      <th>3</th>\n",
       "      <th>4</th>\n",
       "      <th>5</th>\n",
       "      <th>6</th>\n",
       "      <th>7</th>\n",
       "      <th>8</th>\n",
       "      <th>9</th>\n",
       "      <th>10</th>\n",
       "    </tr>\n",
       "    <tr>\n",
       "      <th>Risk</th>\n",
       "      <th></th>\n",
       "      <th></th>\n",
       "      <th></th>\n",
       "      <th></th>\n",
       "      <th></th>\n",
       "      <th></th>\n",
       "      <th></th>\n",
       "      <th></th>\n",
       "      <th></th>\n",
       "      <th></th>\n",
       "    </tr>\n",
       "  </thead>\n",
       "  <tbody>\n",
       "    <tr>\n",
       "      <th>1</th>\n",
       "      <td>0</td>\n",
       "      <td>0</td>\n",
       "      <td>16</td>\n",
       "      <td>7</td>\n",
       "      <td>0</td>\n",
       "      <td>8</td>\n",
       "      <td>8</td>\n",
       "      <td>0</td>\n",
       "      <td>0</td>\n",
       "      <td>0</td>\n",
       "    </tr>\n",
       "    <tr>\n",
       "      <th>2</th>\n",
       "      <td>804</td>\n",
       "      <td>149114</td>\n",
       "      <td>3670</td>\n",
       "      <td>57652</td>\n",
       "      <td>4</td>\n",
       "      <td>2084</td>\n",
       "      <td>85</td>\n",
       "      <td>11</td>\n",
       "      <td>345</td>\n",
       "      <td>82</td>\n",
       "    </tr>\n",
       "    <tr>\n",
       "      <th>3</th>\n",
       "      <td>2225</td>\n",
       "      <td>3</td>\n",
       "      <td>6668</td>\n",
       "      <td>22168</td>\n",
       "      <td>2</td>\n",
       "      <td>2151</td>\n",
       "      <td>156</td>\n",
       "      <td>7</td>\n",
       "      <td>260</td>\n",
       "      <td>79</td>\n",
       "    </tr>\n",
       "    <tr>\n",
       "      <th>4</th>\n",
       "      <td>2129</td>\n",
       "      <td>0</td>\n",
       "      <td>481</td>\n",
       "      <td>6447</td>\n",
       "      <td>0</td>\n",
       "      <td>404</td>\n",
       "      <td>43</td>\n",
       "      <td>2</td>\n",
       "      <td>58</td>\n",
       "      <td>24</td>\n",
       "    </tr>\n",
       "    <tr>\n",
       "      <th>5</th>\n",
       "      <td>432</td>\n",
       "      <td>0</td>\n",
       "      <td>55</td>\n",
       "      <td>700</td>\n",
       "      <td>1</td>\n",
       "      <td>103</td>\n",
       "      <td>5</td>\n",
       "      <td>1</td>\n",
       "      <td>20</td>\n",
       "      <td>11</td>\n",
       "    </tr>\n",
       "    <tr>\n",
       "      <th>6</th>\n",
       "      <td>19</td>\n",
       "      <td>0</td>\n",
       "      <td>2</td>\n",
       "      <td>60</td>\n",
       "      <td>0</td>\n",
       "      <td>8</td>\n",
       "      <td>0</td>\n",
       "      <td>0</td>\n",
       "      <td>1</td>\n",
       "      <td>0</td>\n",
       "    </tr>\n",
       "    <tr>\n",
       "      <th>7</th>\n",
       "      <td>3</td>\n",
       "      <td>0</td>\n",
       "      <td>0</td>\n",
       "      <td>5</td>\n",
       "      <td>0</td>\n",
       "      <td>0</td>\n",
       "      <td>0</td>\n",
       "      <td>0</td>\n",
       "      <td>2</td>\n",
       "      <td>0</td>\n",
       "    </tr>\n",
       "  </tbody>\n",
       "</table>\n",
       "</div>"
      ],
      "text/plain": [
       "Reliability    1       2     3      4   5     6    7   8    9   10\n",
       "Risk                                                              \n",
       "1               0       0    16      7   0     8    8   0    0   0\n",
       "2             804  149114  3670  57652   4  2084   85  11  345  82\n",
       "3            2225       3  6668  22168   2  2151  156   7  260  79\n",
       "4            2129       0   481   6447   0   404   43   2   58  24\n",
       "5             432       0    55    700   1   103    5   1   20  11\n",
       "6              19       0     2     60   0     8    0   0    1   0\n",
       "7               3       0     0      5   0     0    0   0    2   0"
      ]
     },
     "execution_count": 53,
     "metadata": {},
     "output_type": "execute_result"
    }
   ],
   "source": [
    "from matplotlib import cm\n",
    "from numpy import arange\n",
    "pd.crosstab(av['Risk'], av['Reliability'])"
   ]
  },
  {
   "cell_type": "markdown",
   "metadata": {},
   "source": [
    "Ahora construimos un [**mapa de calor**](http://en.wikipedia.org/wiki/Heat_map) que haga más aparente cómo los valores\n",
    "del dataset se concentran alrededor de un punto, lo que puede ser un síntoma de sesgo."
   ]
  },
  {
   "cell_type": "code",
   "execution_count": 54,
   "metadata": {},
   "outputs": [
    {
     "data": {
      "text/plain": [
       "<matplotlib.colorbar.Colorbar at 0x122c48550>"
      ]
     },
     "execution_count": 54,
     "metadata": {},
     "output_type": "execute_result"
    },
    {
     "data": {
      "image/png": "[encoded data removed]",
      "text/plain": [
       "<matplotlib.figure.Figure at 0x120983710>"
      ]
     },
     "metadata": {},
     "output_type": "display_data"
    }
   ],
   "source": [
    "# vista gráfica de la tabla de contingencia risk/reliability\n",
    "xtab = pd.crosstab(av['Reliability'], av['Risk'])\n",
    "plt.pcolor(xtab,cmap=cm.Greens)\n",
    "plt.yticks(arange(0.5,len(xtab.index), 1),xtab.index)\n",
    "plt.xticks(arange(0.5,len(xtab.columns), 1),xtab.columns)\n",
    "plt.colorbar()"
   ]
  },
  {
   "cell_type": "markdown",
   "metadata": {},
   "source": [
    "Si asumimos que los distintos valores de _riesgo_ y _fiabilidad_ deberían tener la misma probabilidad de aparecer,\n",
    "¿el gráfico anterior es lo esperado?"
   ]
  },
  {
   "cell_type": "markdown",
   "metadata": {},
   "source": [
    "Ahora fijémonos en la variable _Type_ para ver si no se puede establecer una relación con las calificaciones de _Risk_ y _Reliability_. Algunas entradas tienen más de un tipo asignado, separados por punto y coma:"
   ]
  },
  {
   "cell_type": "code",
   "execution_count": 57,
   "metadata": {},
   "outputs": [
    {
     "name": "stdout",
     "output_type": "stream",
     "text": [
      "APT;Malware Domain                          1\n",
      "C&C                                       610\n",
      "C&C;Malware Domain                         31\n",
      "C&C;Malware IP                             20\n",
      "C&C;Scanning Host                           7\n",
      "Malicious Host                           3770\n",
      "Malicious Host;Malware Domain               4\n",
      "Malicious Host;Malware IP                   2\n",
      "Malicious Host;Scanning Host              163\n",
      "Malware Domain                           9274\n",
      "Malware Domain;C&C                         25\n",
      "Malware Domain;Malicious Host               4\n",
      "Malware Domain;Malware IP                 173\n",
      "Malware Domain;Scanning Host               39\n",
      "Malware Domain;Spamming                     2\n",
      "Malware IP                               6470\n",
      "Malware IP;C&C                              2\n",
      "Malware IP;Malicious Host                   1\n",
      "Malware IP;Malware Domain                  57\n",
      "Malware IP;Scanning Host                    8\n",
      "Malware IP;Spamming                         7\n",
      "Malware distribution                        1\n",
      "Malware distribution;Malicious Host         1\n",
      "Malware distribution;Malware IP             4\n",
      "Scanning Host                          234179\n",
      "Scanning Host;C&C                           2\n",
      "Scanning Host;Malicious Host              215\n",
      "Scanning Host;Malware Domain               19\n",
      "Scanning Host;Malware IP                    7\n",
      "Scanning Host;Spamming                      7\n",
      "Spamming                                 3487\n",
      "Spamming;Malware Domain                     5\n",
      "Spamming;Malware IP                         4\n",
      "Spamming;Scanning Host                     24\n",
      "dtype: int64\n"
     ]
    }
   ],
   "source": [
    "print factor_col(av['Type'])"
   ]
  },
  {
   "cell_type": "markdown",
   "metadata": {},
   "source": [
    "Si estamos comparando estos tipos, aquellas entradas con una combinación de tipos no deberían compararse con otros tipos. En vez de descartar los registros que contienen más de un tipo, simplemente los asignamos a una categoría nueva de nombre `Multiples` y crearíamos una tabla de contingencia de 3 entradas (Type, Risk y Reliability) como la siguiente:\n",
    "![3 way contingency table](./files/3-way-contingency.png)"
   ]
  },
  {
   "cell_type": "markdown",
   "metadata": {},
   "source": [
    "Como `matplotlib` no proporciona este tipo de tabla de 3 entradas, empleamos otro tipo de representación en forma de gráfico de barras."
   ]
  },
  {
   "cell_type": "code",
   "execution_count": 67,
   "metadata": {},
   "outputs": [
    {
     "data": {
      "image/png": "[encoded data removed]",
      "text/plain": [
       "<matplotlib.figure.Figure at 0x115939790>"
      ]
     },
     "metadata": {},
     "output_type": "display_data"
    }
   ],
   "source": [
    "av['newtype'] = av['Type']\n",
    "av[av['newtype'].str.contains(\";\")] = \"Multiples\"\n",
    "typ = av['newtype']\n",
    "rel = av['Reliability']\n",
    "rsk = av['Risk']\n",
    "xtab = pd.crosstab(typ, [ rel, rsk ], rownames=['typ'], colnames=['rel', 'rsk'])\n",
    "#print xtab.to_string() #no mostrar\n",
    "xtab.plot(kind='bar',legend=False, title=\"Risk ~ Reliabilty | Type\").grid(False)"
   ]
  },
  {
   "cell_type": "markdown",
   "metadata": {},
   "source": [
    "En el gráfico anterior se puede ver cómo el 90% de las entradas (234.000 valores) fueron clasificadas como \"scanning hosts\". Esta categoría es tan grande y con riesgo bajo que está ensombreciendo al resto de categorías. Hay que eliminarla de los valores para `Type` y regenerar la imagen. Esto no quiere decir que \"scanning hosts\" no sea importante. Pero lo que intentamos es comprender cuáles de esas entradas nos interesan. Los nodos con bajo riesgo y fiabilidad no nos importan mucho. Así que generamos un nuevo gráfico de barras habiendo eliminado los valores \"scanning hosts\":"
   ]
  },
  {
   "cell_type": "code",
   "execution_count": 75,
   "metadata": {},
   "outputs": [
    {
     "data": {
      "image/png": "[encoded data removed]",
      "text/plain": [
       "<matplotlib.figure.Figure at 0x10fe6d750>"
      ]
     },
     "metadata": {},
     "output_type": "display_data"
    }
   ],
   "source": [
    "rrt_df = av[av['newtype'] != \"Scanning Host\"]\n",
    "typ = rrt_df['newtype']\n",
    "rel = rrt_df['Reliability']\n",
    "rsk = rrt_df['Risk']\n",
    "xtab = pd.crosstab(typ, [ rel, rsk ], rownames=['typ'], colnames=['rel', 'rsk'])\n",
    "xtab.plot(kind='bar',legend=False, title=\"Risk ~ Reliabilty | Type\").grid(False)"
   ]
  },
  {
   "cell_type": "markdown",
   "metadata": {},
   "source": [
    "Ahora eliminamos los valores clasificados como \"malware distribution\" y \"malware domain\" y volvemos a pintar el gráfico:"
   ]
  },
  {
   "cell_type": "code",
   "execution_count": 76,
   "metadata": {},
   "outputs": [
    {
     "name": "stdout",
     "output_type": "stream",
     "text": [
      "Count: 15171; Percent: 5.9%\n"
     ]
    },
    {
     "data": {
      "text/plain": [
       "<matplotlib.axes._subplots.AxesSubplot at 0x116a4d0d0>"
      ]
     },
     "execution_count": 76,
     "metadata": {},
     "output_type": "execute_result"
    },
    {
     "data": {
      "image/png": "[encoded data removed]",
      "text/plain": [
       "<matplotlib.figure.Figure at 0x110e43d50>"
      ]
     },
     "metadata": {},
     "output_type": "display_data"
    }
   ],
   "source": [
    "rrt_df = rrt_df[rrt_df['newtype'] != \"Malware distribution\" ]\n",
    "rrt_df = rrt_df[rrt_df['newtype'] != \"Malware Domain\" ]\n",
    "typ = rrt_df['newtype']\n",
    "rel = rrt_df['Reliability']\n",
    "rsk = rrt_df['Risk']\n",
    "xtab = pd.crosstab(typ, [ rel, rsk ], rownames=['typ'], colnames=['rel', 'rsk'])\n",
    "print \"Count: %d; Percent: %2.1f%%\" % (len(rrt_df), (float(len(rrt_df)) / len(av)) * 100)\n",
    "## Count: 15171; Percent: 5.9%\n",
    "xtab.plot(kind='bar',legend=False)"
   ]
  },
  {
   "cell_type": "markdown",
   "metadata": {
    "collapsed": true
   },
   "source": [
    "Con esto se ha reducido a menos de un 6% el número total de nodos que representan una amenaza real. Si se necesita reducir aún más el número de nodos a vigilar, se podría filtrar por varias combinaciones de fiabilidad y riesgo.\n",
    "\n",
    "El proceso de filtrado realizado no es para determinar las variables más importantes. Simplemente sirve para comprender las relaciones entre variables y la frecuencia con que suceden. Como el 90% de los datos eran de tipo \"scanning hosts\", quizá convendría filtrar aquellos hosts con un riesgo 2 o menor. El análisis solo ha servido para identificar los nodos sobre los que se podrían generar alertas prioritarias."
   ]
  },
  {
   "cell_type": "code",
   "execution_count": null,
   "metadata": {
    "collapsed": true
   },
   "outputs": [],
   "source": []
  }
 ],
 "metadata": {
  "kernelspec": {
   "display_name": "Python 2",
   "language": "python",
   "name": "python2"
  },
  "language_info": {
   "codemirror_mode": {
    "name": "ipython",
    "version": 2
   },
   "file_extension": ".py",
   "mimetype": "text/x-python",
   "name": "python",
   "nbconvert_exporter": "python",
   "pygments_lexer": "ipython2",
   "version": "2.7.14"
  }
 },
 "nbformat": 4,
 "nbformat_minor": 2
}
